{
 "cells": [
  {
   "cell_type": "code",
   "execution_count": 175,
   "metadata": {},
   "outputs": [],
   "source": [
    "import pandas as pd\n",
    "import numpy as np"
   ]
  },
  {
   "cell_type": "code",
   "execution_count": 208,
   "metadata": {},
   "outputs": [],
   "source": [
    "from pandas import read_csv\n",
    "from sklearn.model_selection import train_test_split\n",
    "from sklearn.feature_selection import SelectKBest,SelectPercentile, chi2"
   ]
  },
  {
   "cell_type": "code",
   "execution_count": 209,
   "metadata": {},
   "outputs": [],
   "source": [
    "from sklearn.feature_selection import f_classif\n",
    "from matplotlib import pyplot"
   ]
  },
  {
   "cell_type": "code",
   "execution_count": 286,
   "metadata": {},
   "outputs": [],
   "source": [
    "# load the dataset\n",
    "def load_dataset(filename):\n",
    "\t# load the dataset as a pandas DataFrame\n",
    "\tdata = read_csv(filename, header=None) #None gives us the dataset without column name i.e. header\n",
    "\t# retrieve numpy array\n",
    "\tdataset = data.values\n",
    "\t# get features and target labels\n",
    "\tfeatures = dataset[:, :-1]\n",
    "\ttarget = dataset[:,-1]\n",
    "\tX=[]\n",
    "\ty=[]\n",
    "\t# type cast into required types    \n",
    "\tfor j in range(1,int(len(features)/2)):\n",
    "\t\tX.append([float(i) for i in features[j]])\n",
    "\t\ty.append(int(target[j]))\n",
    "\treturn X, y"
   ]
  },
  {
   "cell_type": "code",
   "execution_count": 287,
   "metadata": {},
   "outputs": [],
   "source": [
    "# feature selection\n",
    "def select_features(X_train, y_train, X_test):\n",
    "\t# configure to select all features\n",
    "\tfs = SelectKBest(score_func=f_classif, k=10)\n",
    "\t# learn relationship from training data\n",
    "\tfs.fit(X_train, y_train)\n",
    "\t# transform train input data\n",
    "\tX_train_fs = fs.transform(X_train)\n",
    "\t# transform test input data\n",
    "\tX_test_fs = fs.transform(X_test)\n",
    "\treturn X_train_fs, X_test_fs, fs"
   ]
  },
  {
   "cell_type": "code",
   "execution_count": 288,
   "metadata": {},
   "outputs": [
    {
     "name": "stdout",
     "output_type": "stream",
     "text": [
      "[1.0, 2.0, 7.0, 49153.0, 6.0, 1.0, 0.0, 1.29491, 0.0, 0.0, 0.0, 0.0, 20760.0, 0.0, 10.0, 0.0, 10.0, 0.0]\n"
     ]
    }
   ],
   "source": [
    "# load the dataset\n",
    "X, y = load_dataset('/Users/abiral/ns3/ns-allinone-3.31/ns-3.31/blackholedataset.csv')"
   ]
  },
  {
   "cell_type": "code",
   "execution_count": 289,
   "metadata": {},
   "outputs": [],
   "source": [
    "# split into train and test sets\n",
    "X_train, X_test, y_train, y_test = train_test_split(X, y, test_size=0.33, random_state=1)\n"
   ]
  },
  {
   "cell_type": "code",
   "execution_count": 290,
   "metadata": {},
   "outputs": [
    {
     "name": "stdout",
     "output_type": "stream",
     "text": [
      "[2.0, 12.0, 13.0, 654.0, 654.0, 1.00895, 1.0147, 1.00895, 1.0147, 0.00576, 0.0, 0.0, 48.0, 48.0, 1.0, 1.0, 0.0, 0.063606]\n",
      "[2.0000e+00 1.3000e+01 6.5400e+02 6.5400e+02 1.0147e+00 4.8000e+01\n",
      " 1.0000e+00 1.0000e+00 0.0000e+00 6.3606e-02]\n",
      "[1.00000e+01 9.00000e+00 6.54000e+02 6.54000e+02 3.02925e+00 4.80000e+01\n",
      " 1.00000e+00 1.00000e+00 0.00000e+00 4.64880e-02]\n"
     ]
    }
   ],
   "source": [
    "# feature selection\n",
    "X_train_fs, X_test_fs, fs = select_features(X_train, y_train, X_test)\n"
   ]
  },
  {
   "cell_type": "code",
   "execution_count": 291,
   "metadata": {
    "scrolled": true
   },
   "outputs": [
    {
     "name": "stdout",
     "output_type": "stream",
     "text": [
      "Feature 0: 49.080243\n",
      "Feature 1: 26.251877\n",
      "Feature 2: 64.910682\n",
      "Feature 3: 64.761797\n",
      "Feature 4: 64.912930\n",
      "Feature 5: 20.343740\n",
      "Feature 6: 47.828285\n",
      "Feature 7: 12.724087\n",
      "Feature 8: 34.237110\n",
      "Feature 9: 5.441366\n",
      "Feature 10: 4.103085\n",
      "Feature 11: 6.634898\n",
      "Feature 12: 47.853594\n",
      "Feature 13: 5.849231\n",
      "Feature 14: 59.606118\n",
      "Feature 15: 200.064032\n",
      "Feature 16: 216.894794\n",
      "Feature 17: 46.371693\n"
     ]
    },
    {
     "data": {
      "image/png": "[encoded data removed]",
      "text/plain": [
       "<Figure size 432x288 with 1 Axes>"
      ]
     },
     "metadata": {
      "needs_background": "light"
     },
     "output_type": "display_data"
    }
   ],
   "source": [
    "# what are scores for the features\n",
    "for i in range(len(fs.scores_)):\n",
    "\tprint('Feature %d: %f' % (i, fs.scores_[i]))\n",
    "# plot the scores\n",
    "pyplot.bar([i for i in range(len(fs.scores_))], fs.scores_)\n",
    "pyplot.show()"
   ]
  },
  {
   "cell_type": "code",
   "execution_count": 292,
   "metadata": {},
   "outputs": [
    {
     "name": "stdout",
     "output_type": "stream",
     "text": [
      "Accuracy: 99.60\n",
      "ROC_AUC score: 1.00\n",
      "F1 score: 0.99\n"
     ]
    }
   ],
   "source": [
    "from sklearn import svm\n",
    "from sklearn.linear_model import LogisticRegression\n",
    "from sklearn.metrics import accuracy_score\n",
    "from sklearn.ensemble import GradientBoostingClassifier\n",
    "from sklearn.metrics import roc_auc_score, f1_score\n",
    "\n",
    "#model = GradientBoostingClassifier(n_estimators=100, learning_rate=1.0,max_depth=1, random_state=0)\n",
    "model = svm.SVC(gamma='auto')\n",
    "model.fit(X_train_fs, y_train)\n",
    "# evaluate the model\n",
    "y_pred = model.predict(X_test_fs)\n",
    "# evaluate predictions\n",
    "accuracy = accuracy_score(y_test, y_pred)\n",
    "roc_auc = roc_auc_score(y_test, y_pred)\n",
    "f1_score = f1_score(y_test,y_pred,average='binary')\n",
    "\n",
    "print('Accuracy: %.2f' % (accuracy*100))\n",
    "print('ROC_AUC score: %.2f' % roc_auc)\n",
    "print('F1 score: %.2f' % f1_score)"
   ]
  },
  {
   "cell_type": "code",
   "execution_count": null,
   "metadata": {},
   "outputs": [],
   "source": []
  }
 ],
 "metadata": {
  "kernelspec": {
   "display_name": "Python 3",
   "language": "python",
   "name": "python3"
  },
  "language_info": {
   "codemirror_mode": {
    "name": "ipython",
    "version": 3
   },
   "file_extension": ".py",
   "mimetype": "text/x-python",
   "name": "python",
   "nbconvert_exporter": "python",
   "pygments_lexer": "ipython3",
   "version": "3.7.3"
  }
 },
 "nbformat": 4,
 "nbformat_minor": 2
}
